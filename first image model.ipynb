{
 "cells": [
  {
   "cell_type": "code",
   "execution_count": 6,
   "id": "b05a1aa2-c264-4c75-8f10-e007cdec92f8",
   "metadata": {},
   "outputs": [],
   "source": [
    "import tensorflow as tf\n",
    "from tensorflow import keras\n",
    "import cv2\n",
    "from tensorflow.keras.preprocessing.image import ImageDataGenerator\n",
    "import os\n",
    "# Define the directory containing the preprocessed images\n",
    "data_dir = 'CutmixSplitMonkeypoxSkinImageDataset'\n",
    "\n"
   ]
  },
  {
   "cell_type": "code",
   "execution_count": 17,
   "id": "7e1488dd-703e-4d25-99d5-41452c914504",
   "metadata": {},
   "outputs": [
    {
     "name": "stdout",
     "output_type": "stream",
     "text": [
      "Found 614 images belonging to 4 classes.\n",
      "Found 75 images belonging to 4 classes.\n",
      "Found 81 images belonging to 4 classes.\n"
     ]
    }
   ],
   "source": [
    "# Define the size of the images\n",
    "img_size = (128, 128)\n",
    "\n",
    "# Define the batch size\n",
    "batch_size = 128\n",
    "# Define the data generators for the training, validation, and test sets\n",
    "\n",
    "from keras.preprocessing.image import ImageDataGenerator\n",
    "\n",
    "# Define the data generators for the training, validation, and test sets\n",
    "train_datagen = ImageDataGenerator(rescale=1./255, preprocessing_function=lambda x: cv2.cvtColor(x, cv2.COLOR_BGR2RGB))\n",
    "train_generator = train_datagen.flow_from_directory(\n",
    "        os.path.join(data_dir, 'train'),\n",
    "        target_size=img_size,\n",
    "        batch_size=batch_size,\n",
    "        class_mode='sparse')  # Changed from 'categorical' to 'sparse'\n",
    "\n",
    "val_generator = val_datagen.flow_from_directory(\n",
    "        os.path.join(data_dir, 'val'),\n",
    "        target_size=img_size,\n",
    "        batch_size=batch_size,\n",
    "        class_mode='sparse')  # Changed from 'categorical' to 'sparse'\n",
    "\n",
    "test_generator = test_datagen.flow_from_directory(\n",
    "        os.path.join(data_dir, 'test'),\n",
    "        target_size=img_size,\n",
    "        batch_size=batch_size,\n",
    "        class_mode='sparse')  # Changed from 'categorical' to 'sparse'\n",
    "\n"
   ]
  },
  {
   "cell_type": "code",
   "execution_count": 18,
   "id": "b8dd0a43-4fb9-44d2-ad6a-09ddcd24f53f",
   "metadata": {},
   "outputs": [
    {
     "name": "stdout",
     "output_type": "stream",
     "text": [
      "Model: \"model_1\"\n",
      "__________________________________________________________________________________________________\n",
      " Layer (type)                   Output Shape         Param #     Connected to                     \n",
      "==================================================================================================\n",
      " input_7 (InputLayer)           [(None, 128, 128, 3  0           []                               \n",
      "                                )]                                                                \n",
      "                                                                                                  \n",
      " rescaling_4 (Rescaling)        (None, 128, 128, 3)  0           ['input_7[0][0]']                \n",
      "                                                                                                  \n",
      " resizing_4 (Resizing)          (None, 32, 32, 3)    0           ['rescaling_4[0][0]']            \n",
      "                                                                                                  \n",
      " reshape_3 (Reshape)            (None, 64, 48)       0           ['resizing_4[0][0]']             \n",
      "                                                                                                  \n",
      " dense_16 (Dense)               (None, 64, 256)      12544       ['reshape_3[0][0]']              \n",
      "                                                                                                  \n",
      " dropout_16 (Dropout)           (None, 64, 256)      0           ['dense_16[0][0]']               \n",
      "                                                                                                  \n",
      " multi_head_attention_6 (MultiH  (None, 64, 256)     263168      ['dropout_16[0][0]',             \n",
      " eadAttention)                                                    'dropout_16[0][0]']             \n",
      "                                                                                                  \n",
      " dropout_17 (Dropout)           (None, 64, 256)      0           ['multi_head_attention_6[0][0]'] \n",
      "                                                                                                  \n",
      " tf.__operators__.add_12 (TFOpL  (None, 64, 256)     0           ['dropout_17[0][0]',             \n",
      " ambda)                                                           'dropout_16[0][0]']             \n",
      "                                                                                                  \n",
      " layer_normalization_12 (LayerN  (None, 64, 256)     512         ['tf.__operators__.add_12[0][0]']\n",
      " ormalization)                                                                                    \n",
      "                                                                                                  \n",
      " dense_17 (Dense)               (None, 64, 1024)     263168      ['layer_normalization_12[0][0]'] \n",
      "                                                                                                  \n",
      " dense_18 (Dense)               (None, 64, 256)      262400      ['dense_17[0][0]']               \n",
      "                                                                                                  \n",
      " dropout_18 (Dropout)           (None, 64, 256)      0           ['dense_18[0][0]']               \n",
      "                                                                                                  \n",
      " tf.__operators__.add_13 (TFOpL  (None, 64, 256)     0           ['dropout_18[0][0]',             \n",
      " ambda)                                                           'layer_normalization_12[0][0]'] \n",
      "                                                                                                  \n",
      " layer_normalization_13 (LayerN  (None, 64, 256)     512         ['tf.__operators__.add_13[0][0]']\n",
      " ormalization)                                                                                    \n",
      "                                                                                                  \n",
      " multi_head_attention_7 (MultiH  (None, 64, 256)     263168      ['layer_normalization_13[0][0]', \n",
      " eadAttention)                                                    'layer_normalization_13[0][0]'] \n",
      "                                                                                                  \n",
      " dropout_19 (Dropout)           (None, 64, 256)      0           ['multi_head_attention_7[0][0]'] \n",
      "                                                                                                  \n",
      " tf.__operators__.add_14 (TFOpL  (None, 64, 256)     0           ['dropout_19[0][0]',             \n",
      " ambda)                                                           'layer_normalization_13[0][0]'] \n",
      "                                                                                                  \n",
      " layer_normalization_14 (LayerN  (None, 64, 256)     512         ['tf.__operators__.add_14[0][0]']\n",
      " ormalization)                                                                                    \n",
      "                                                                                                  \n",
      " dense_19 (Dense)               (None, 64, 1024)     263168      ['layer_normalization_14[0][0]'] \n",
      "                                                                                                  \n",
      " dense_20 (Dense)               (None, 64, 256)      262400      ['dense_19[0][0]']               \n",
      "                                                                                                  \n",
      " dropout_20 (Dropout)           (None, 64, 256)      0           ['dense_20[0][0]']               \n",
      "                                                                                                  \n",
      " tf.__operators__.add_15 (TFOpL  (None, 64, 256)     0           ['dropout_20[0][0]',             \n",
      " ambda)                                                           'layer_normalization_14[0][0]'] \n",
      "                                                                                                  \n",
      " layer_normalization_15 (LayerN  (None, 64, 256)     512         ['tf.__operators__.add_15[0][0]']\n",
      " ormalization)                                                                                    \n",
      "                                                                                                  \n",
      " multi_head_attention_8 (MultiH  (None, 64, 256)     263168      ['layer_normalization_15[0][0]', \n",
      " eadAttention)                                                    'layer_normalization_15[0][0]'] \n",
      "                                                                                                  \n",
      " dropout_21 (Dropout)           (None, 64, 256)      0           ['multi_head_attention_8[0][0]'] \n",
      "                                                                                                  \n",
      " tf.__operators__.add_16 (TFOpL  (None, 64, 256)     0           ['dropout_21[0][0]',             \n",
      " ambda)                                                           'layer_normalization_15[0][0]'] \n",
      "                                                                                                  \n",
      " layer_normalization_16 (LayerN  (None, 64, 256)     512         ['tf.__operators__.add_16[0][0]']\n",
      " ormalization)                                                                                    \n",
      "                                                                                                  \n",
      " dense_21 (Dense)               (None, 64, 1024)     263168      ['layer_normalization_16[0][0]'] \n",
      "                                                                                                  \n",
      " dense_22 (Dense)               (None, 64, 256)      262400      ['dense_21[0][0]']               \n",
      "                                                                                                  \n",
      " dropout_22 (Dropout)           (None, 64, 256)      0           ['dense_22[0][0]']               \n",
      "                                                                                                  \n",
      " tf.__operators__.add_17 (TFOpL  (None, 64, 256)     0           ['dropout_22[0][0]',             \n",
      " ambda)                                                           'layer_normalization_16[0][0]'] \n",
      "                                                                                                  \n",
      " layer_normalization_17 (LayerN  (None, 64, 256)     512         ['tf.__operators__.add_17[0][0]']\n",
      " ormalization)                                                                                    \n",
      "                                                                                                  \n",
      " multi_head_attention_9 (MultiH  (None, 64, 256)     263168      ['layer_normalization_17[0][0]', \n",
      " eadAttention)                                                    'layer_normalization_17[0][0]'] \n",
      "                                                                                                  \n",
      " dropout_23 (Dropout)           (None, 64, 256)      0           ['multi_head_attention_9[0][0]'] \n",
      "                                                                                                  \n",
      " tf.__operators__.add_18 (TFOpL  (None, 64, 256)     0           ['dropout_23[0][0]',             \n",
      " ambda)                                                           'layer_normalization_17[0][0]'] \n",
      "                                                                                                  \n",
      " layer_normalization_18 (LayerN  (None, 64, 256)     512         ['tf.__operators__.add_18[0][0]']\n",
      " ormalization)                                                                                    \n",
      "                                                                                                  \n",
      " dense_23 (Dense)               (None, 64, 1024)     263168      ['layer_normalization_18[0][0]'] \n",
      "                                                                                                  \n",
      " dense_24 (Dense)               (None, 64, 256)      262400      ['dense_23[0][0]']               \n",
      "                                                                                                  \n",
      " dropout_24 (Dropout)           (None, 64, 256)      0           ['dense_24[0][0]']               \n",
      "                                                                                                  \n",
      " tf.__operators__.add_19 (TFOpL  (None, 64, 256)     0           ['dropout_24[0][0]',             \n",
      " ambda)                                                           'layer_normalization_18[0][0]'] \n",
      "                                                                                                  \n",
      " layer_normalization_19 (LayerN  (None, 64, 256)     512         ['tf.__operators__.add_19[0][0]']\n",
      " ormalization)                                                                                    \n",
      "                                                                                                  \n",
      " multi_head_attention_10 (Multi  (None, 64, 256)     263168      ['layer_normalization_19[0][0]', \n",
      " HeadAttention)                                                   'layer_normalization_19[0][0]'] \n",
      "                                                                                                  \n",
      " dropout_25 (Dropout)           (None, 64, 256)      0           ['multi_head_attention_10[0][0]']\n",
      "                                                                                                  \n",
      " tf.__operators__.add_20 (TFOpL  (None, 64, 256)     0           ['dropout_25[0][0]',             \n",
      " ambda)                                                           'layer_normalization_19[0][0]'] \n",
      "                                                                                                  \n",
      " layer_normalization_20 (LayerN  (None, 64, 256)     512         ['tf.__operators__.add_20[0][0]']\n",
      " ormalization)                                                                                    \n",
      "                                                                                                  \n",
      " dense_25 (Dense)               (None, 64, 1024)     263168      ['layer_normalization_20[0][0]'] \n",
      "                                                                                                  \n",
      " dense_26 (Dense)               (None, 64, 256)      262400      ['dense_25[0][0]']               \n",
      "                                                                                                  \n",
      " dropout_26 (Dropout)           (None, 64, 256)      0           ['dense_26[0][0]']               \n",
      "                                                                                                  \n",
      " tf.__operators__.add_21 (TFOpL  (None, 64, 256)     0           ['dropout_26[0][0]',             \n",
      " ambda)                                                           'layer_normalization_20[0][0]'] \n",
      "                                                                                                  \n",
      " layer_normalization_21 (LayerN  (None, 64, 256)     512         ['tf.__operators__.add_21[0][0]']\n",
      " ormalization)                                                                                    \n",
      "                                                                                                  \n",
      " multi_head_attention_11 (Multi  (None, 64, 256)     263168      ['layer_normalization_21[0][0]', \n",
      " HeadAttention)                                                   'layer_normalization_21[0][0]'] \n",
      "                                                                                                  \n",
      " dropout_27 (Dropout)           (None, 64, 256)      0           ['multi_head_attention_11[0][0]']\n",
      "                                                                                                  \n",
      " tf.__operators__.add_22 (TFOpL  (None, 64, 256)     0           ['dropout_27[0][0]',             \n",
      " ambda)                                                           'layer_normalization_21[0][0]'] \n",
      "                                                                                                  \n",
      " layer_normalization_22 (LayerN  (None, 64, 256)     512         ['tf.__operators__.add_22[0][0]']\n",
      " ormalization)                                                                                    \n",
      "                                                                                                  \n",
      " dense_27 (Dense)               (None, 64, 1024)     263168      ['layer_normalization_22[0][0]'] \n",
      "                                                                                                  \n",
      " dense_28 (Dense)               (None, 64, 256)      262400      ['dense_27[0][0]']               \n",
      "                                                                                                  \n",
      " dropout_28 (Dropout)           (None, 64, 256)      0           ['dense_28[0][0]']               \n",
      "                                                                                                  \n",
      " tf.__operators__.add_23 (TFOpL  (None, 64, 256)     0           ['dropout_28[0][0]',             \n",
      " ambda)                                                           'layer_normalization_22[0][0]'] \n",
      "                                                                                                  \n",
      " layer_normalization_23 (LayerN  (None, 64, 256)     512         ['tf.__operators__.add_23[0][0]']\n",
      " ormalization)                                                                                    \n",
      "                                                                                                  \n",
      " global_average_pooling1d_1 (Gl  (None, 256)         0           ['layer_normalization_23[0][0]'] \n",
      " obalAveragePooling1D)                                                                            \n",
      "                                                                                                  \n",
      " dense_29 (Dense)               (None, 4)            1028        ['global_average_pooling1d_1[0][0\n",
      "                                                                 ]']                              \n",
      "                                                                                                  \n",
      "==================================================================================================\n",
      "Total params: 4,752,132\n",
      "Trainable params: 4,752,132\n",
      "Non-trainable params: 0\n",
      "__________________________________________________________________________________________________\n"
     ]
    }
   ],
   "source": [
    "# Define the architecture of the model\n",
    "import tensorflow as tf\n",
    "from tensorflow import keras\n",
    "from tensorflow.keras import layers\n",
    "\n",
    "def get_vit_model(input_shape, num_classes):\n",
    "    # Patch size\n",
    "    patch_size = 4\n",
    "    num_patches = (input_shape[0] // patch_size) * (input_shape[1] // patch_size)\n",
    "    # Embedding layer for the patch embeddings\n",
    "    embeddings_dim = 256\n",
    "    inputs = layers.Input(shape=input_shape)\n",
    "    patches = layers.experimental.preprocessing.Rescaling(scale=1.0 / 255)(inputs)\n",
    "    patches = layers.experimental.preprocessing.Resizing(input_shape[0] // patch_size, input_shape[1] // patch_size)(patches)\n",
    "    patches = layers.Reshape((-1, patch_size * patch_size * input_shape[2]))(patches)\n",
    "    patches = layers.Dense(embeddings_dim)(patches)  # Change here: use Dense layer to obtain embeddings\n",
    "    embeddings = layers.Dropout(0.1)(patches)\n",
    "    \n",
    "    # Transformer layers\n",
    "    num_transformer_blocks = 6\n",
    "    for _ in range(num_transformer_blocks):\n",
    "        # Multi-head self-attention\n",
    "        x1 = layers.MultiHeadAttention(num_heads=8, key_dim=embeddings_dim // 8)(embeddings, embeddings)\n",
    "        x1 = layers.Dropout(0.1)(x1)\n",
    "        x1 = layers.LayerNormalization(epsilon=1e-6)(x1 + embeddings)\n",
    "        # MLP\n",
    "        x2 = layers.Dense(units=4 * embeddings_dim, activation='relu')(x1)\n",
    "        x2 = layers.Dense(units=embeddings_dim)(x2)\n",
    "        x2 = layers.Dropout(0.1)(x2)\n",
    "        embeddings = layers.LayerNormalization(epsilon=1e-6)(x2 + x1)\n",
    "    \n",
    "    # Classification head\n",
    "    x = layers.GlobalAveragePooling1D()(embeddings)\n",
    "    outputs = layers.Dense(num_classes, activation='softmax')(x)\n",
    "    # Define the model\n",
    "    model = keras.Model(inputs=inputs, outputs=outputs)\n",
    "    return model\n",
    "\n",
    "model = get_vit_model(input_shape=(128, 128, 3), num_classes=4)\n",
    "model.summary()\n"
   ]
  },
  {
   "cell_type": "code",
   "execution_count": 19,
   "id": "14eb8db7-77bc-4a6f-bc30-9a1e062479cf",
   "metadata": {},
   "outputs": [],
   "source": [
    "# Compile the model\n",
    "# Compile the model\n",
    "model.compile(optimizer='adam',loss='sparse_categorical_crossentropy',metrics=['accuracy'])"
   ]
  },
  {
   "cell_type": "code",
   "execution_count": 20,
   "id": "ac07865b-e6cc-469c-bee8-923456d8cc82",
   "metadata": {},
   "outputs": [
    {
     "name": "stdout",
     "output_type": "stream",
     "text": [
      "Epoch 1/15\n",
      "5/5 [==============================] - 23s 3s/step - loss: nan - accuracy: 0.1824 - val_loss: nan - val_accuracy: 0.1333\n",
      "Epoch 2/15\n",
      "5/5 [==============================] - 13s 3s/step - loss: nan - accuracy: 0.1384 - val_loss: nan - val_accuracy: 0.1333\n",
      "Epoch 3/15\n",
      "5/5 [==============================] - 13s 3s/step - loss: nan - accuracy: 0.1384 - val_loss: nan - val_accuracy: 0.1333\n",
      "Epoch 4/15\n",
      "5/5 [==============================] - 13s 3s/step - loss: nan - accuracy: 0.1384 - val_loss: nan - val_accuracy: 0.1333\n",
      "Epoch 5/15\n",
      "5/5 [==============================] - 13s 3s/step - loss: nan - accuracy: 0.1384 - val_loss: nan - val_accuracy: 0.1333\n",
      "Epoch 6/15\n",
      "5/5 [==============================] - 13s 3s/step - loss: nan - accuracy: 0.1384 - val_loss: nan - val_accuracy: 0.1333\n",
      "Epoch 7/15\n",
      "5/5 [==============================] - 13s 3s/step - loss: nan - accuracy: 0.1384 - val_loss: nan - val_accuracy: 0.1333\n",
      "Epoch 8/15\n",
      "5/5 [==============================] - 13s 3s/step - loss: nan - accuracy: 0.1384 - val_loss: nan - val_accuracy: 0.1333\n",
      "Epoch 9/15\n",
      "5/5 [==============================] - 13s 3s/step - loss: nan - accuracy: 0.1384 - val_loss: nan - val_accuracy: 0.1333\n",
      "Epoch 10/15\n",
      "5/5 [==============================] - 15s 3s/step - loss: nan - accuracy: 0.1384 - val_loss: nan - val_accuracy: 0.1333\n",
      "Epoch 11/15\n",
      "5/5 [==============================] - 14s 3s/step - loss: nan - accuracy: 0.1384 - val_loss: nan - val_accuracy: 0.1333\n",
      "Epoch 12/15\n",
      "5/5 [==============================] - 13s 3s/step - loss: nan - accuracy: 0.1384 - val_loss: nan - val_accuracy: 0.1333\n",
      "Epoch 13/15\n",
      "5/5 [==============================] - 13s 3s/step - loss: nan - accuracy: 0.1384 - val_loss: nan - val_accuracy: 0.1333\n",
      "Epoch 14/15\n",
      "5/5 [==============================] - 13s 3s/step - loss: nan - accuracy: 0.1384 - val_loss: nan - val_accuracy: 0.1333\n",
      "Epoch 15/15\n",
      "5/5 [==============================] - 13s 3s/step - loss: nan - accuracy: 0.1384 - val_loss: nan - val_accuracy: 0.1333\n"
     ]
    }
   ],
   "source": [
    "# Train the model on the training set\n",
    "# Fit the model\n",
    "history = model.fit(train_generator,epochs=15,validation_data=val_generator)"
   ]
  },
  {
   "cell_type": "code",
   "execution_count": 21,
   "id": "9c0cf034-967a-4ae3-932f-92df6e1e4209",
   "metadata": {},
   "outputs": [],
   "source": [
    "import matplotlib.pyplot as plt"
   ]
  },
  {
   "cell_type": "code",
   "execution_count": 22,
   "id": "f47d49b8-1572-4fc0-806c-26636ecd447f",
   "metadata": {},
   "outputs": [
    {
     "data": {
      "image/png": "[encoded data removed]",
      "text/plain": [
       "<Figure size 640x480 with 1 Axes>"
      ]
     },
     "metadata": {},
     "output_type": "display_data"
    }
   ],
   "source": [
    "# Plot the training and validation accuracy and loss\n",
    "plt.plot(history.history['accuracy'], label='Training Accuracy')\n",
    "plt.plot(history.history['val_accuracy'], label='Validation Accuracy')\n",
    "plt.legend()\n",
    "plt.title('Training and Validation Accuracy')\n",
    "plt.xlabel('Epoch')\n",
    "plt.ylabel('Accuracy')\n",
    "plt.show()"
   ]
  },
  {
   "cell_type": "code",
   "execution_count": 23,
   "id": "cf2c4ccc-1251-4227-826a-bd86b76e826d",
   "metadata": {},
   "outputs": [
    {
     "data": {
      "image/png": "[encoded data removed]",
      "text/plain": [
       "<Figure size 640x480 with 1 Axes>"
      ]
     },
     "metadata": {},
     "output_type": "display_data"
    }
   ],
   "source": [
    "plt.plot(history.history['loss'], label='Training Loss')\n",
    "plt.plot(history.history['val_loss'], label='Validation Loss')\n",
    "plt.legend()\n",
    "plt.title('Training and Validation Loss')\n",
    "plt.xlabel('Epoch')\n",
    "plt.ylabel('Loss')\n",
    "plt.show()"
   ]
  },
  {
   "cell_type": "code",
   "execution_count": 24,
   "id": "5107c457-9e2c-467c-9850-4cc7fb612f27",
   "metadata": {},
   "outputs": [
    {
     "name": "stdout",
     "output_type": "stream",
     "text": [
      "1/1 [==============================] - 1s 665ms/step - loss: nan - accuracy: 0.1481\n",
      "Test accuracy: 0.14814814925193787\n"
     ]
    }
   ],
   "source": [
    "# Evaluate the model on the test set\n",
    "test_loss, test_acc = model.evaluate(test_generator)\n",
    "print('Test accuracy:', test_acc)"
   ]
  },
  {
   "cell_type": "code",
   "execution_count": 25,
   "id": "244c622b-a514-4f7b-a817-a8ea4939a014",
   "metadata": {},
   "outputs": [],
   "source": [
    "# Save the trained model to a file\n",
    "model.save('vit.h5')"
   ]
  },
  {
   "cell_type": "code",
   "execution_count": null,
   "id": "e18b570a-1876-48ed-bef9-8accf404e393",
   "metadata": {},
   "outputs": [],
   "source": []
  }
 ],
 "metadata": {
  "kernelspec": {
   "display_name": "Python 3 (ipykernel)",
   "language": "python",
   "name": "python3"
  },
  "language_info": {
   "codemirror_mode": {
    "name": "ipython",
    "version": 3
   },
   "file_extension": ".py",
   "mimetype": "text/x-python",
   "name": "python",
   "nbconvert_exporter": "python",
   "pygments_lexer": "ipython3",
   "version": "3.10.7"
  }
 },
 "nbformat": 4,
 "nbformat_minor": 5
}
