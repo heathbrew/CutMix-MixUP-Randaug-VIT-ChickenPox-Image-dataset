{
 "cells": [
  {
   "cell_type": "code",
   "execution_count": 1,
   "id": "36f79ffa-c9df-423a-81b7-d34ff40df819",
   "metadata": {},
   "outputs": [],
   "source": [
    "# !pip install split-folders"
   ]
  },
  {
   "cell_type": "markdown",
   "id": "b8c2419b-1b47-45fb-ba45-48e20e86df92",
   "metadata": {},
   "source": [
    "the subfolders in input folders only contain images and no subfolders"
   ]
  },
  {
   "cell_type": "code",
   "execution_count": 2,
   "id": "bfa11904-e26c-4070-b050-911ce69a88b0",
   "metadata": {},
   "outputs": [
    {
     "name": "stderr",
     "output_type": "stream",
     "text": [
      "Copying files: 770 files [00:06, 124.30 files/s]\n"
     ]
    }
   ],
   "source": [
    "import splitfolders # or import splitfolders\n",
    "input_folder = \"Monkeypox Skin Image Dataset\"\n",
    "output = \"SplitMonkeypoxSkinImageDataset\" #where you want the split datasets saved. one will be created if it does not exist or none is set\n",
    "\n",
    "splitfolders.ratio(input_folder, output=output, seed=42, ratio=(0.8, 0.1, 0.1)) # ratio of split are in order of train/val/test. You can change to whatever you want. For train/val sets only, you could do .75, .25 for example."
   ]
  },
  {
   "cell_type": "code",
   "execution_count": null,
   "id": "0a714bfd-ae1c-4b93-86e2-b065c9becca1",
   "metadata": {},
   "outputs": [],
   "source": []
  }
 ],
 "metadata": {
  "kernelspec": {
   "display_name": "Python 3 (ipykernel)",
   "language": "python",
   "name": "python3"
  },
  "language_info": {
   "codemirror_mode": {
    "name": "ipython",
    "version": 3
   },
   "file_extension": ".py",
   "mimetype": "text/x-python",
   "name": "python",
   "nbconvert_exporter": "python",
   "pygments_lexer": "ipython3",
   "version": "3.10.7"
  }
 },
 "nbformat": 4,
 "nbformat_minor": 5
}
